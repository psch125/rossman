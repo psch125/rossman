{
 "cells": [
  {
   "cell_type": "code",
   "execution_count": 1,
   "metadata": {},
   "outputs": [],
   "source": [
    "import numpy as np \n",
    "import pandas as pd\n",
    "import os\n",
    "import scipy.stats as ss\n",
    "import matplotlib.pyplot as plt\n",
    "import tensorflow as tf\n",
    "import sklearn\n",
    "from sklearn.preprocessing import StandardScaler,MinMaxScaler\n",
    "from sklearn.model_selection import train_test_split\n",
    "from sklearn.tree import DecisionTreeRegressor\n",
    "from sklearn.metrics import mean_squared_error\n",
    "from sklearn.model_selection import GridSearchCV\n",
    "from xgboost import XGBRegressor,plot_importance\n",
    "from scipy.stats import f_oneway\n",
    "from keras.callbacks import EarlyStopping, ModelCheckpoint\n"
   ]
  },
  {
   "cell_type": "code",
   "execution_count": null,
   "metadata": {},
   "outputs": [],
   "source": [
    "import tensorflow as tf\n",
    "gpus = tf.config.experimental.list_physical_devices('GPU')\n",
    "if gpus:\n",
    "  # 텐서플로가 첫 번째 GPU에 1GB 메모리만 할당하도록 제한\n",
    "  try:\n",
    "    tf.config.experimental.set_virtual_device_configuration(\n",
    "        gpus[0],\n",
    "        [tf.config.experimental.VirtualDeviceConfiguration(memory_limit=1024)])\n",
    "  except RuntimeError as e:\n",
    "    # 프로그램 시작시에 가상 장치가 설정되어야만 합니다\n",
    "    print(e)"
   ]
  },
  {
   "cell_type": "code",
   "execution_count": 2,
   "metadata": {},
   "outputs": [
    {
     "name": "stderr",
     "output_type": "stream",
     "text": [
      "D:\\ANACONDA1\\lib\\site-packages\\IPython\\core\\interactiveshell.py:3146: DtypeWarning: Columns (7) have mixed types.Specify dtype option on import or set low_memory=False.\n",
      "  has_raised = await self.run_ast_nodes(code_ast.body, cell_name,\n"
     ]
    }
   ],
   "source": [
    "sales = pd.read_csv('D:/승찬/수요 예측/rossmann-store-sales/train.csv')\n",
    "store = pd.read_csv('D:/승찬/수요 예측/rossmann-store-sales/store.csv')\n",
    "future_sales = pd.read_csv('D:/승찬/수요 예측/rossmann-store-sales/test.csv')\n",
    "sales['StateHoliday'] = sales['StateHoliday'].replace({0:\"0\"})\n",
    "sales['StateHoliday'] = sales['StateHoliday'].replace({'0':'d'})"
   ]
  },
  {
   "cell_type": "code",
   "execution_count": 3,
   "metadata": {},
   "outputs": [],
   "source": [
    "def processing_data(sales,store) :\n",
    "    sales['Date'] = pd.to_datetime(sales['Date'], format=\"%Y-%m-%d\") # 년도, 달, 일 순으로 format\n",
    "    sales['StateHoliday'] = sales['StateHoliday'].replace({0:\"0\"})\n",
    "    sales['StateHoliday'] = sales['StateHoliday'].replace({'0':'d'})\n",
    "    sales = sales.sort_values('Date')\n",
    "    \n",
    "    one_hot = []\n",
    "    for i in range(0,len(sales)) :\n",
    "        one_hot.append(0)\n",
    "        \n",
    "    name = ['StateHoliday_a','StateHoliday_b','StateHoliday_c','StateHoliday_d']\n",
    "    values = ['a','b','c','d']\n",
    "    counts = sales['StateHoliday'].value_counts().sort_index().index\n",
    "\n",
    "    for i in range(0,len(values)) :\n",
    "        if values[i] not in counts :\n",
    "            sales[name[i]] = one_hot        \n",
    "    sales = pd.get_dummies(data = sales, columns = ['StateHoliday'])\n",
    "    columns = sales.columns.tolist()\n",
    "    columns.sort()\n",
    "    sales = sales[columns]\n",
    "    \n",
    "    store = processing_store(store)\n",
    "    store_copy = store\n",
    "    store_copy= pd.merge(left=sales,right=store_copy,on='Store')\n",
    "\n",
    "    store_copy['Year']=pd.DatetimeIndex(store_copy.Date).year\n",
    "    store_copy['Month']=pd.DatetimeIndex(store_copy.Date).month\n",
    "    store_copy['Day']=pd.DatetimeIndex(store_copy.Date).day\n",
    "    if 'Id' in sales :\n",
    "        store_copy = store_copy.drop(['Date','Store','Id'],axis=1)\n",
    "    else :\n",
    "        store_copy = store_copy.drop(['Date','Store','Customers'],axis=1)\n",
    "        \n",
    "    target_col = 'Sales'\n",
    "    input_cols = store_copy.columns.drop(target_col)        \n",
    "    features = store_copy[input_cols]\n",
    "    target = store_copy[target_col]\n",
    "    target = pd.DataFrame(target.values.reshape(-1,1))\n",
    "        \n",
    "#     StandardScaler\n",
    "#     scaler = StandardScaler().fit(store_copy)\n",
    "#     store_copy = pd.DataFrame(scaler.transform(store_copy),\n",
    "#                              index = store_copy.index, columns = store_copy.columns)\n",
    "    \n",
    "#    MinMaxScaler\n",
    "#     scaler = MinMaxScaler().fit(store_copy)\n",
    "#     store_copy = pd.DataFrame(scaler.transform(store_copy),\n",
    "#                              index = store_copy.index, columns = store_copy.columns)\n",
    "\n",
    "#     store_copy = feature_engineering_scaling(store_copy)\n",
    "            \n",
    "    return make_regression_model_1(features,target)\n",
    "\n",
    "def processing_store(store) :\n",
    "    store_copy = store.copy()\n",
    "    store_copy['CompetitionDistance'] = store_copy['CompetitionDistance'].fillna(\n",
    "        store_copy['CompetitionDistance'].mean())\n",
    "\n",
    "    store_copy_cols = ['CompetitionOpenSinceYear','CompetitionOpenSinceMonth',\n",
    "                    'Promo2SinceWeek','Promo2SinceYear','PromoInterval']\n",
    "    for i in store_copy_cols :\n",
    "        store_copy[i].fillna(0,inplace=True)\n",
    "    store_copy = pd.get_dummies(data=store_copy,columns=['Assortment','PromoInterval','StoreType'])\n",
    "    return store_copy   \n",
    "\n",
    "def scaling_data(scaler,features,target) :\n",
    "    global scaler2\n",
    "    if scaler == StandardScaler :\n",
    "        scaler1 = StandardScaler().fit(features)\n",
    "        scaler2 = StandardScaler().fit(target)\n",
    "        features = pd.DataFrame(scaler1.transform(features),\n",
    "                               index = features.index, columns = features.columns)\n",
    "        target = pd.DataFrame(scaler2.transform(target),\n",
    "                             index = target.index, columns = target.columns)\n",
    "    elif scaler == MinMaxScaler : \n",
    "        scaler1 = StandardScaler().fit(features)\n",
    "        scaler2 = MinMaxScaler().fit(target)\n",
    "        features = pd.DataFrame(scaler1.transform(features),\n",
    "                               index = features.index,columns = features.columns)\n",
    "        target = pd.DataFrame(scaler2.transform(target),\n",
    "                             index = target.index, columns = target.columns)\n",
    "    elif scaler == normal :\n",
    "        return features,target\n",
    "        \n",
    "    \n",
    "    return features,target\n",
    "\n",
    "\n",
    "def inverse_scaling(target) :\n",
    "    global scaler2\n",
    "    inverse_scaled_data = scaler2.inverse_transform(target)\n",
    "    \n",
    "    return inverse_scaled_data\n",
    "    \n",
    "    \n",
    "\n",
    "def make_regression_model_1(features,target) :\n",
    "    features, target = scaling_data(MinMaxScaler,features,target)\n",
    "    train_x,test_x,train_y,test_y = train_test_split(features,\n",
    "                                                    target,\n",
    "                                                    test_size=0.4,random_state=1)\n",
    "    \n",
    "    test_x,val_x,test_y,val_y = train_test_split(test_x,\n",
    "                                                test_y,\n",
    "                                                test_size=0.5)\n",
    "       \n",
    "    return train_x,test_x,val_x,train_y,test_y,val_y\n",
    "\n",
    "def type_name(feature,target,loss_function) :\n",
    "    data = [feature+'_'+target+'_'+loss_function+'_param',\n",
    "            feature+'_'+target+'_'+loss_function+'_predict',\n",
    "            feature+'_'+target+'_'+loss_function+'_hist']\n",
    "    return data"
   ]
  },
  {
   "cell_type": "markdown",
   "metadata": {},
   "source": [
    "# Normalization"
   ]
  },
  {
   "cell_type": "code",
   "execution_count": 13,
   "metadata": {},
   "outputs": [],
   "source": [
    "def make_resultfile(history,data,pred,actual) :\n",
    "    filename = data\n",
    "    \n",
    "    plt.plot(history.history['mean_absolute_error'])\n",
    "    plt.plot(history.history['val_mean_absolute_error'])\n",
    "    plt.legend(['mean_absolute_error','val_mean_absolute_error'])\n",
    "    plt.xlabel('epochs')\n",
    "    plt.ylabel('mean_absolute_error')\n",
    "    plt.grid()\n",
    "    plt.savefig(data[0])    \n",
    "    plt.clf()\n",
    "    \n",
    "#     aa=[x for x in range(1000)]\n",
    "    plt.plot(actual[:1000], marker='.', label=\"actual\")\n",
    "    plt.plot(pred[:1000], 'r', label=\"prediction\")\n",
    "    plt.ylabel('Sales', size=15)\n",
    "    plt.xlabel('Period', size=15)\n",
    "    plt.legend(fontsize=15)\n",
    "    plt.savefig(data[1],dpi=199)\n",
    "    plt.clf()\n",
    "    \n",
    "    \n",
    "    plt.plot(actual[:250], marker='.', label=\"actual\")\n",
    "    plt.plot(pred[:250], 'r', label=\"prediction\")\n",
    "    plt.ylabel('Sales', size=15)\n",
    "    plt.xlabel('Period', size=15)\n",
    "    plt.legend(fontsize=15)\n",
    "    plt.savefig('pred_5')\n",
    "    plt.clf()\n",
    "\n",
    "    plt.hist(pred,alpha = 0.5,color='g')\n",
    "    plt.hist(actual,alpha = 0.5,color='r')\n",
    "    plt.savefig(data[2])"
   ]
  },
  {
   "cell_type": "code",
   "execution_count": null,
   "metadata": {},
   "outputs": [],
   "source": [
    "from keras import backend as K\n",
    "def root_mean_squared_error(y_true, y_pred):\n",
    "        return K.sqrt(K.mean(K.square(y_pred - y_true)))"
   ]
  },
  {
   "cell_type": "code",
   "execution_count": 5,
   "metadata": {},
   "outputs": [],
   "source": [
    "train_x,test_x,val_x,train_y,test_y,val_y=processing_data(sales,store)"
   ]
  },
  {
   "cell_type": "code",
   "execution_count": 6,
   "metadata": {},
   "outputs": [
    {
     "name": "stdout",
     "output_type": "stream",
     "text": [
      "Model: \"sequential\"\n",
      "_________________________________________________________________\n",
      "Layer (type)                 Output Shape              Param #   \n",
      "=================================================================\n",
      "dense (Dense)                (None, 256)               7424      \n",
      "_________________________________________________________________\n",
      "dropout (Dropout)            (None, 256)               0         \n",
      "_________________________________________________________________\n",
      "batch_normalization (BatchNo (None, 256)               1024      \n",
      "_________________________________________________________________\n",
      "dense_1 (Dense)              (None, 256)               65792     \n",
      "_________________________________________________________________\n",
      "dropout_1 (Dropout)          (None, 256)               0         \n",
      "_________________________________________________________________\n",
      "batch_normalization_1 (Batch (None, 256)               1024      \n",
      "_________________________________________________________________\n",
      "dense_2 (Dense)              (None, 256)               65792     \n",
      "_________________________________________________________________\n",
      "dropout_2 (Dropout)          (None, 256)               0         \n",
      "_________________________________________________________________\n",
      "batch_normalization_2 (Batch (None, 256)               1024      \n",
      "_________________________________________________________________\n",
      "dense_3 (Dense)              (None, 128)               32896     \n",
      "_________________________________________________________________\n",
      "dropout_3 (Dropout)          (None, 128)               0         \n",
      "_________________________________________________________________\n",
      "batch_normalization_3 (Batch (None, 128)               512       \n",
      "_________________________________________________________________\n",
      "dense_4 (Dense)              (None, 1)                 129       \n",
      "=================================================================\n",
      "Total params: 175,617\n",
      "Trainable params: 173,825\n",
      "Non-trainable params: 1,792\n",
      "_________________________________________________________________\n"
     ]
    }
   ],
   "source": [
    "model = tf.keras.Sequential()\n",
    "model.add(tf.keras.layers.Dense(256,input_dim=train_x.shape[1],activation='relu'))\n",
    "model.add(tf.keras.layers.Dropout(0.2))\n",
    "model.add(tf.keras.layers.BatchNormalization())\n",
    "\n",
    "model.add(tf.keras.layers.Dense(256,activation='relu'))\n",
    "model.add(tf.keras.layers.Dropout(0.2))\n",
    "model.add(tf.keras.layers.BatchNormalization())\n",
    "\n",
    "model.add(tf.keras.layers.Dense(256,activation='relu'))\n",
    "model.add(tf.keras.layers.Dropout(0.2))\n",
    "model.add(tf.keras.layers.BatchNormalization())\n",
    "\n",
    "model.add(tf.keras.layers.Dense(128,activation='relu'))\n",
    "model.add(tf.keras.layers.Dropout(0.2))\n",
    "model.add(tf.keras.layers.BatchNormalization())\n",
    "\n",
    "model.add(tf.keras.layers.Dense(1))\n",
    "\n",
    "model.compile(optimizer='adam',\n",
    "             loss='mse',\n",
    "             metrics=['mean_absolute_error'])\n",
    "\n",
    "model_path = 'D:/승찬/git/rossman'\n",
    "checkpoint = ModelCheckpoint(filepath=model_path , monitor='val_mean_absolute_error', verbose=1, save_best_only=True)\n",
    "early_stopping = EarlyStopping(monitor='val_loss', patience=6)\n",
    "\n",
    "model.summary()"
   ]
  },
  {
   "cell_type": "code",
   "execution_count": 7,
   "metadata": {},
   "outputs": [
    {
     "name": "stdout",
     "output_type": "stream",
     "text": [
      "Epoch 1/50\n",
      "9532/9537 [============================>.] - ETA: 0s - loss: 0.0198 - mean_absolute_error: 0.0662\n",
      "Epoch 00001: val_mean_absolute_error improved from inf to 0.03959, saving model to D:/승찬/git/rossman\n",
      "WARNING:tensorflow:From D:\\ANACONDA1\\lib\\site-packages\\tensorflow\\python\\ops\\resource_variable_ops.py:1813: calling BaseResourceVariable.__init__ (from tensorflow.python.ops.resource_variable_ops) with constraint is deprecated and will be removed in a future version.\n",
      "Instructions for updating:\n",
      "If using Keras pass *_constraint arguments to layers.\n",
      "INFO:tensorflow:Assets written to: D:/승찬/git/rossman\\assets\n",
      "9537/9537 [==============================] - 56s 6ms/step - loss: 0.0198 - mean_absolute_error: 0.0662 - val_loss: 0.0033 - val_mean_absolute_error: 0.0396\n",
      "Epoch 2/50\n",
      "9528/9537 [============================>.] - ETA: 0s - loss: 0.0035 - mean_absolute_error: 0.0417\n",
      "Epoch 00002: val_mean_absolute_error improved from 0.03959 to 0.03668, saving model to D:/승찬/git/rossman\n",
      "INFO:tensorflow:Assets written to: D:/승찬/git/rossman\\assets\n",
      "9537/9537 [==============================] - 61s 6ms/step - loss: 0.0035 - mean_absolute_error: 0.0417 - val_loss: 0.0029 - val_mean_absolute_error: 0.0367\n",
      "Epoch 3/50\n",
      "9534/9537 [============================>.] - ETA: 0s - loss: 0.0029 - mean_absolute_error: 0.0374\n",
      "Epoch 00003: val_mean_absolute_error improved from 0.03668 to 0.03361, saving model to D:/승찬/git/rossman\n",
      "INFO:tensorflow:Assets written to: D:/승찬/git/rossman\\assets\n",
      "9537/9537 [==============================] - 55s 6ms/step - loss: 0.0029 - mean_absolute_error: 0.0374 - val_loss: 0.0023 - val_mean_absolute_error: 0.0336\n",
      "Epoch 4/50\n",
      "9536/9537 [============================>.] - ETA: 0s - loss: 0.0026 - mean_absolute_error: 0.0357\n",
      "Epoch 00004: val_mean_absolute_error improved from 0.03361 to 0.03027, saving model to D:/승찬/git/rossman\n",
      "INFO:tensorflow:Assets written to: D:/승찬/git/rossman\\assets\n",
      "9537/9537 [==============================] - 58s 6ms/step - loss: 0.0026 - mean_absolute_error: 0.0357 - val_loss: 0.0023 - val_mean_absolute_error: 0.0303\n",
      "Epoch 5/50\n",
      "9535/9537 [============================>.] - ETA: 0s - loss: 0.0025 - mean_absolute_error: 0.0346\n",
      "Epoch 00005: val_mean_absolute_error improved from 0.03027 to 0.02850, saving model to D:/승찬/git/rossman\n",
      "INFO:tensorflow:Assets written to: D:/승찬/git/rossman\\assets\n",
      "9537/9537 [==============================] - 55s 6ms/step - loss: 0.0025 - mean_absolute_error: 0.0346 - val_loss: 0.0020 - val_mean_absolute_error: 0.0285\n",
      "Epoch 6/50\n",
      "9535/9537 [============================>.] - ETA: 0s - loss: 0.0024 - mean_absolute_error: 0.0340\n",
      "Epoch 00006: val_mean_absolute_error did not improve from 0.02850\n",
      "9537/9537 [==============================] - 49s 5ms/step - loss: 0.0024 - mean_absolute_error: 0.0340 - val_loss: 0.0020 - val_mean_absolute_error: 0.0311\n",
      "Epoch 7/50\n",
      "9529/9537 [============================>.] - ETA: 0s - loss: 0.0024 - mean_absolute_error: 0.0335\n",
      "Epoch 00007: val_mean_absolute_error improved from 0.02850 to 0.02798, saving model to D:/승찬/git/rossman\n",
      "INFO:tensorflow:Assets written to: D:/승찬/git/rossman\\assets\n",
      "9537/9537 [==============================] - 54s 6ms/step - loss: 0.0024 - mean_absolute_error: 0.0335 - val_loss: 0.0018 - val_mean_absolute_error: 0.0280\n",
      "Epoch 8/50\n",
      "9533/9537 [============================>.] - ETA: 0s - loss: 0.0023 - mean_absolute_error: 0.0332\n",
      "Epoch 00008: val_mean_absolute_error improved from 0.02798 to 0.02659, saving model to D:/승찬/git/rossman\n",
      "INFO:tensorflow:Assets written to: D:/승찬/git/rossman\\assets\n",
      "9537/9537 [==============================] - 60s 6ms/step - loss: 0.0023 - mean_absolute_error: 0.0332 - val_loss: 0.0017 - val_mean_absolute_error: 0.0266\n",
      "Epoch 9/50\n",
      "9531/9537 [============================>.] - ETA: 0s - loss: 0.0023 - mean_absolute_error: 0.0328\n",
      "Epoch 00009: val_mean_absolute_error did not improve from 0.02659\n",
      "9537/9537 [==============================] - 57s 6ms/step - loss: 0.0023 - mean_absolute_error: 0.0328 - val_loss: 0.0017 - val_mean_absolute_error: 0.0276\n",
      "Epoch 10/50\n",
      "9536/9537 [============================>.] - ETA: 0s - loss: 0.0022 - mean_absolute_error: 0.0326\n",
      "Epoch 00010: val_mean_absolute_error did not improve from 0.02659\n",
      "9537/9537 [==============================] - 51s 5ms/step - loss: 0.0022 - mean_absolute_error: 0.0326 - val_loss: 0.0018 - val_mean_absolute_error: 0.0291\n",
      "Epoch 11/50\n",
      "9536/9537 [============================>.] - ETA: 0s - loss: 0.0022 - mean_absolute_error: 0.0323\n",
      "Epoch 00011: val_mean_absolute_error did not improve from 0.02659\n",
      "9537/9537 [==============================] - 67s 7ms/step - loss: 0.0022 - mean_absolute_error: 0.0323 - val_loss: 0.0017 - val_mean_absolute_error: 0.0272\n",
      "Epoch 12/50\n",
      "9537/9537 [==============================] - ETA: 0s - loss: 0.0022 - mean_absolute_error: 0.0320\n",
      "Epoch 00012: val_mean_absolute_error did not improve from 0.02659\n",
      "9537/9537 [==============================] - 53s 6ms/step - loss: 0.0022 - mean_absolute_error: 0.0320 - val_loss: 0.0018 - val_mean_absolute_error: 0.0267\n",
      "Epoch 13/50\n",
      "9533/9537 [============================>.] - ETA: 0s - loss: 0.0021 - mean_absolute_error: 0.0318\n",
      "Epoch 00013: val_mean_absolute_error did not improve from 0.02659\n",
      "9537/9537 [==============================] - 49s 5ms/step - loss: 0.0021 - mean_absolute_error: 0.0318 - val_loss: 0.0016 - val_mean_absolute_error: 0.0275\n",
      "Epoch 14/50\n",
      "9531/9537 [============================>.] - ETA: 0s - loss: 0.0021 - mean_absolute_error: 0.0316\n",
      "Epoch 00014: val_mean_absolute_error improved from 0.02659 to 0.02493, saving model to D:/승찬/git/rossman\n",
      "INFO:tensorflow:Assets written to: D:/승찬/git/rossman\\assets\n",
      "9537/9537 [==============================] - 55s 6ms/step - loss: 0.0021 - mean_absolute_error: 0.0316 - val_loss: 0.0016 - val_mean_absolute_error: 0.0249\n",
      "Epoch 15/50\n",
      "9534/9537 [============================>.] - ETA: 0s - loss: 0.0021 - mean_absolute_error: 0.0314\n",
      "Epoch 00015: val_mean_absolute_error did not improve from 0.02493\n",
      "9537/9537 [==============================] - 59s 6ms/step - loss: 0.0021 - mean_absolute_error: 0.0314 - val_loss: 0.0016 - val_mean_absolute_error: 0.0266\n",
      "Epoch 16/50\n",
      "9534/9537 [============================>.] - ETA: 0s - loss: 0.0021 - mean_absolute_error: 0.0313\n",
      "Epoch 00016: val_mean_absolute_error improved from 0.02493 to 0.02432, saving model to D:/승찬/git/rossman\n",
      "INFO:tensorflow:Assets written to: D:/승찬/git/rossman\\assets\n",
      "9537/9537 [==============================] - 54s 6ms/step - loss: 0.0021 - mean_absolute_error: 0.0313 - val_loss: 0.0015 - val_mean_absolute_error: 0.0243\n",
      "Epoch 17/50\n",
      "9535/9537 [============================>.] - ETA: 0s - loss: 0.0020 - mean_absolute_error: 0.0310\n",
      "Epoch 00017: val_mean_absolute_error did not improve from 0.02432\n",
      "9537/9537 [==============================] - 50s 5ms/step - loss: 0.0020 - mean_absolute_error: 0.0310 - val_loss: 0.0015 - val_mean_absolute_error: 0.0250\n",
      "Epoch 18/50\n",
      "9528/9537 [============================>.] - ETA: 0s - loss: 0.0020 - mean_absolute_error: 0.0310\n",
      "Epoch 00018: val_mean_absolute_error did not improve from 0.02432\n",
      "9537/9537 [==============================] - 50s 5ms/step - loss: 0.0020 - mean_absolute_error: 0.0310 - val_loss: 0.0015 - val_mean_absolute_error: 0.0267\n",
      "Epoch 19/50\n",
      "9530/9537 [============================>.] - ETA: 0s - loss: 0.0020 - mean_absolute_error: 0.0308\n",
      "Epoch 00019: val_mean_absolute_error did not improve from 0.02432\n",
      "9537/9537 [==============================] - 51s 5ms/step - loss: 0.0020 - mean_absolute_error: 0.0308 - val_loss: 0.0015 - val_mean_absolute_error: 0.0258\n",
      "Epoch 20/50\n",
      "9537/9537 [==============================] - ETA: 0s - loss: 0.0020 - mean_absolute_error: 0.0306\n",
      "Epoch 00020: val_mean_absolute_error did not improve from 0.02432\n",
      "9537/9537 [==============================] - 49s 5ms/step - loss: 0.0020 - mean_absolute_error: 0.0306 - val_loss: 0.0015 - val_mean_absolute_error: 0.0248\n",
      "Epoch 21/50\n",
      "9536/9537 [============================>.] - ETA: 0s - loss: 0.0020 - mean_absolute_error: 0.0306\n",
      "Epoch 00021: val_mean_absolute_error did not improve from 0.02432\n",
      "9537/9537 [==============================] - 50s 5ms/step - loss: 0.0020 - mean_absolute_error: 0.0306 - val_loss: 0.0015 - val_mean_absolute_error: 0.0278\n"
     ]
    },
    {
     "name": "stdout",
     "output_type": "stream",
     "text": [
      "Epoch 22/50\n",
      "9532/9537 [============================>.] - ETA: 0s - loss: 0.0020 - mean_absolute_error: 0.0305\n",
      "Epoch 00022: val_mean_absolute_error did not improve from 0.02432\n",
      "9537/9537 [==============================] - 50s 5ms/step - loss: 0.0020 - mean_absolute_error: 0.0305 - val_loss: 0.0015 - val_mean_absolute_error: 0.0262\n",
      "Epoch 23/50\n",
      "9532/9537 [============================>.] - ETA: 0s - loss: 0.0019 - mean_absolute_error: 0.0305\n",
      "Epoch 00023: val_mean_absolute_error did not improve from 0.02432\n",
      "9537/9537 [==============================] - 58s 6ms/step - loss: 0.0019 - mean_absolute_error: 0.0305 - val_loss: 0.0015 - val_mean_absolute_error: 0.0247\n",
      "Epoch 24/50\n",
      "9535/9537 [============================>.] - ETA: 0s - loss: 0.0019 - mean_absolute_error: 0.0302\n",
      "Epoch 00024: val_mean_absolute_error did not improve from 0.02432\n",
      "9537/9537 [==============================] - 51s 5ms/step - loss: 0.0019 - mean_absolute_error: 0.0302 - val_loss: 0.0016 - val_mean_absolute_error: 0.0254\n",
      "Epoch 25/50\n",
      "9534/9537 [============================>.] - ETA: 0s - loss: 0.0019 - mean_absolute_error: 0.0303\n",
      "Epoch 00025: val_mean_absolute_error improved from 0.02432 to 0.02416, saving model to D:/승찬/git/rossman\n",
      "INFO:tensorflow:Assets written to: D:/승찬/git/rossman\\assets\n",
      "9537/9537 [==============================] - 54s 6ms/step - loss: 0.0019 - mean_absolute_error: 0.0303 - val_loss: 0.0014 - val_mean_absolute_error: 0.0242\n",
      "Epoch 26/50\n",
      "9530/9537 [============================>.] - ETA: 0s - loss: 0.0019 - mean_absolute_error: 0.0301\n",
      "Epoch 00026: val_mean_absolute_error did not improve from 0.02416\n",
      "9537/9537 [==============================] - 50s 5ms/step - loss: 0.0019 - mean_absolute_error: 0.0301 - val_loss: 0.0014 - val_mean_absolute_error: 0.0245\n",
      "Epoch 27/50\n",
      "9536/9537 [============================>.] - ETA: 0s - loss: 0.0019 - mean_absolute_error: 0.0301\n",
      "Epoch 00027: val_mean_absolute_error improved from 0.02416 to 0.02395, saving model to D:/승찬/git/rossman\n",
      "INFO:tensorflow:Assets written to: D:/승찬/git/rossman\\assets\n",
      "9537/9537 [==============================] - 55s 6ms/step - loss: 0.0019 - mean_absolute_error: 0.0301 - val_loss: 0.0014 - val_mean_absolute_error: 0.0239\n",
      "Epoch 28/50\n",
      "9534/9537 [============================>.] - ETA: 0s - loss: 0.0019 - mean_absolute_error: 0.0299\n",
      "Epoch 00028: val_mean_absolute_error did not improve from 0.02395\n",
      "9537/9537 [==============================] - 50s 5ms/step - loss: 0.0019 - mean_absolute_error: 0.0299 - val_loss: 0.0014 - val_mean_absolute_error: 0.0254\n",
      "Epoch 29/50\n",
      "9535/9537 [============================>.] - ETA: 0s - loss: 0.0019 - mean_absolute_error: 0.0300\n",
      "Epoch 00029: val_mean_absolute_error did not improve from 0.02395\n",
      "9537/9537 [==============================] - 50s 5ms/step - loss: 0.0019 - mean_absolute_error: 0.0300 - val_loss: 0.0014 - val_mean_absolute_error: 0.0252\n",
      "Epoch 30/50\n",
      "9532/9537 [============================>.] - ETA: 0s - loss: 0.0019 - mean_absolute_error: 0.0299\n",
      "Epoch 00030: val_mean_absolute_error improved from 0.02395 to 0.02393, saving model to D:/승찬/git/rossman\n",
      "INFO:tensorflow:Assets written to: D:/승찬/git/rossman\\assets\n",
      "9537/9537 [==============================] - 55s 6ms/step - loss: 0.0019 - mean_absolute_error: 0.0299 - val_loss: 0.0014 - val_mean_absolute_error: 0.0239\n",
      "Epoch 31/50\n",
      "9530/9537 [============================>.] - ETA: 0s - loss: 0.0019 - mean_absolute_error: 0.0298\n",
      "Epoch 00031: val_mean_absolute_error did not improve from 0.02393\n",
      "9537/9537 [==============================] - 56s 6ms/step - loss: 0.0019 - mean_absolute_error: 0.0298 - val_loss: 0.0016 - val_mean_absolute_error: 0.0276\n",
      "Epoch 32/50\n",
      "9528/9537 [============================>.] - ETA: 0s - loss: 0.0019 - mean_absolute_error: 0.0299\n",
      "Epoch 00032: val_mean_absolute_error did not improve from 0.02393\n",
      "9537/9537 [==============================] - 57s 6ms/step - loss: 0.0019 - mean_absolute_error: 0.0299 - val_loss: 0.0015 - val_mean_absolute_error: 0.0268\n",
      "Epoch 33/50\n",
      "9533/9537 [============================>.] - ETA: 0s - loss: 0.0019 - mean_absolute_error: 0.0297\n",
      "Epoch 00033: val_mean_absolute_error did not improve from 0.02393\n",
      "9537/9537 [==============================] - 48s 5ms/step - loss: 0.0019 - mean_absolute_error: 0.0297 - val_loss: 0.0015 - val_mean_absolute_error: 0.0271\n",
      "Epoch 34/50\n",
      "9527/9537 [============================>.] - ETA: 0s - loss: 0.0019 - mean_absolute_error: 0.0296\n",
      "Epoch 00034: val_mean_absolute_error did not improve from 0.02393\n",
      "9537/9537 [==============================] - 48s 5ms/step - loss: 0.0019 - mean_absolute_error: 0.0296 - val_loss: 0.0014 - val_mean_absolute_error: 0.0251\n",
      "Epoch 35/50\n",
      "9531/9537 [============================>.] - ETA: 0s - loss: 0.0018 - mean_absolute_error: 0.0296\n",
      "Epoch 00035: val_mean_absolute_error did not improve from 0.02393\n",
      "9537/9537 [==============================] - 48s 5ms/step - loss: 0.0018 - mean_absolute_error: 0.0296 - val_loss: 0.0016 - val_mean_absolute_error: 0.0251\n",
      "Epoch 36/50\n",
      "9536/9537 [============================>.] - ETA: 0s - loss: 0.0018 - mean_absolute_error: 0.0295\n",
      "Epoch 00036: val_mean_absolute_error improved from 0.02393 to 0.02316, saving model to D:/승찬/git/rossman\n",
      "INFO:tensorflow:Assets written to: D:/승찬/git/rossman\\assets\n",
      "9537/9537 [==============================] - 52s 5ms/step - loss: 0.0018 - mean_absolute_error: 0.0295 - val_loss: 0.0013 - val_mean_absolute_error: 0.0232\n",
      "Epoch 37/50\n",
      "9534/9537 [============================>.] - ETA: 0s - loss: 0.0018 - mean_absolute_error: 0.0294\n",
      "Epoch 00037: val_mean_absolute_error did not improve from 0.02316\n",
      "9537/9537 [==============================] - 48s 5ms/step - loss: 0.0018 - mean_absolute_error: 0.0294 - val_loss: 0.0014 - val_mean_absolute_error: 0.0245\n",
      "Epoch 38/50\n",
      "9530/9537 [============================>.] - ETA: 0s - loss: 0.0018 - mean_absolute_error: 0.0293\n",
      "Epoch 00038: val_mean_absolute_error improved from 0.02316 to 0.02270, saving model to D:/승찬/git/rossman\n",
      "INFO:tensorflow:Assets written to: D:/승찬/git/rossman\\assets\n",
      "9537/9537 [==============================] - 53s 6ms/step - loss: 0.0018 - mean_absolute_error: 0.0293 - val_loss: 0.0014 - val_mean_absolute_error: 0.0227\n",
      "Epoch 39/50\n",
      "9533/9537 [============================>.] - ETA: 0s - loss: 0.0018 - mean_absolute_error: 0.0294\n",
      "Epoch 00039: val_mean_absolute_error did not improve from 0.02270\n",
      "9537/9537 [==============================] - 48s 5ms/step - loss: 0.0018 - mean_absolute_error: 0.0294 - val_loss: 0.0014 - val_mean_absolute_error: 0.0230\n",
      "Epoch 40/50\n",
      "9535/9537 [============================>.] - ETA: 0s - loss: 0.0018 - mean_absolute_error: 0.0293\n",
      "Epoch 00040: val_mean_absolute_error did not improve from 0.02270\n",
      "9537/9537 [==============================] - 48s 5ms/step - loss: 0.0018 - mean_absolute_error: 0.0293 - val_loss: 0.0014 - val_mean_absolute_error: 0.0249\n",
      "Epoch 41/50\n",
      "9528/9537 [============================>.] - ETA: 0s - loss: 0.0018 - mean_absolute_error: 0.0293\n",
      "Epoch 00041: val_mean_absolute_error did not improve from 0.02270\n",
      "9537/9537 [==============================] - 48s 5ms/step - loss: 0.0018 - mean_absolute_error: 0.0293 - val_loss: 0.0014 - val_mean_absolute_error: 0.0246\n",
      "Epoch 42/50\n",
      "9529/9537 [============================>.] - ETA: 0s - loss: 0.0018 - mean_absolute_error: 0.0292\n",
      "Epoch 00042: val_mean_absolute_error did not improve from 0.02270\n",
      "9537/9537 [==============================] - 48s 5ms/step - loss: 0.0018 - mean_absolute_error: 0.0292 - val_loss: 0.0014 - val_mean_absolute_error: 0.0242\n"
     ]
    }
   ],
   "source": [
    "results= model.fit(train_x, train_y,\n",
    "                    validation_data=(val_x, val_y),\n",
    "                    batch_size=64,\n",
    "                    epochs=50,\n",
    "                   callbacks=[checkpoint, early_stopping])"
   ]
  },
  {
   "cell_type": "code",
   "execution_count": null,
   "metadata": {},
   "outputs": [],
   "source": [
    "#실험 1\n",
    "pred = model.predict(test_x)\n",
    "pred = pred.reshape(pred.shape[0],1)\n",
    "actual = test_y.values\n",
    "feature = 'None'\n",
    "target = 'None'\n",
    "loss_function = 'mse'\n",
    "filename = type_name(feature,target,loss_function)\n",
    "make_resultfile(results,filename,pred,actual)\n",
    "mse = mean_squared_error(pred,test_y,squared=False)\n",
    "print(mse)"
   ]
  },
  {
   "cell_type": "code",
   "execution_count": 170,
   "metadata": {},
   "outputs": [
    {
     "name": "stdout",
     "output_type": "stream",
     "text": [
      "2321.046865201905\n"
     ]
    },
    {
     "data": {
      "image/png": "[encoded data removed]",
      "text/plain": [
       "<Figure size 720x360 with 1 Axes>"
      ]
     },
     "metadata": {
      "needs_background": "light"
     },
     "output_type": "display_data"
    }
   ],
   "source": [
    "#실험 2\n",
    "pred = model.predict(test_x)\n",
    "pred = pred.reshape(pred.shape[0],1)\n",
    "actual = test_y.values\n",
    "feature = 'Min-Max'\n",
    "target = 'None'\n",
    "loss_function = 'mse'\n",
    "filename = type_name(feature,target,loss_function)\n",
    "make_resultfile(results,filename,pred,actual)\n",
    "rmse = mean_squared_error(pred,test_y,squared=False)\n",
    "print(rmse)"
   ]
  },
  {
   "cell_type": "code",
   "execution_count": 199,
   "metadata": {},
   "outputs": [
    {
     "name": "stdout",
     "output_type": "stream",
     "text": [
      "0.10006122741648164\n"
     ]
    },
    {
     "data": {
      "image/png": "[encoded data removed]",
      "text/plain": [
       "<Figure size 720x360 with 1 Axes>"
      ]
     },
     "metadata": {
      "needs_background": "light"
     },
     "output_type": "display_data"
    }
   ],
   "source": [
    "#실험 3\n",
    "pred = model.predict(test_x)\n",
    "pred = pred.reshape(pred.shape[0],1)\n",
    "# pred = inverse_scaling(pred)\n",
    "# actual = inverse_scaling(test_y)\n",
    "actual = test_y.values\n",
    "feature = 'Z-Score'\n",
    "target = 'None'\n",
    "loss_function = 'mse'\n",
    "filename = type_name(feature,target,loss_function)\n",
    "make_resultfile(results,filename,pred,actual)\n",
    "rmse = mean_squared_error(pred,test_y,squared=False)\n",
    "print(rmse)"
   ]
  },
  {
   "cell_type": "code",
   "execution_count": 212,
   "metadata": {},
   "outputs": [
    {
     "name": "stdout",
     "output_type": "stream",
     "text": [
      "3522.1425135632367\n"
     ]
    },
    {
     "data": {
      "image/png": "[encoded data removed]",
      "text/plain": [
       "<Figure size 720x360 with 1 Axes>"
      ]
     },
     "metadata": {
      "needs_background": "light"
     },
     "output_type": "display_data"
    }
   ],
   "source": [
    "#실험 4\n",
    "pred = model.predict(test_x)\n",
    "pred = inverse_scaling(pred)\n",
    "pred = pred.reshape(pred.shape[0],1)\n",
    "actual = inverse_scaling(test_y)\n",
    "# pred = inverse_scaling(pred)\n",
    "# actual = inverse_scaling(test_y)\n",
    "# actual = test_y.values\n",
    "feature = 'None'\n",
    "target = 'Min-Max'\n",
    "loss_function = 'mse'\n",
    "filename = type_name(feature,target,loss_function)\n",
    "make_resultfile(results,filename,pred,actual)\n",
    "rmse = mean_squared_error(pred,test_y,squared=False)\n",
    "print(rmse)"
   ]
  },
  {
   "cell_type": "code",
   "execution_count": 232,
   "metadata": {},
   "outputs": [
    {
     "name": "stdout",
     "output_type": "stream",
     "text": [
      "1669.6692382303527\n"
     ]
    },
    {
     "data": {
      "image/png": "[encoded data removed]",
      "text/plain": [
       "<Figure size 720x360 with 1 Axes>"
      ]
     },
     "metadata": {
      "needs_background": "light"
     },
     "output_type": "display_data"
    }
   ],
   "source": [
    "#실험 5\n",
    "pred = model.predict(test_x)\n",
    "pred = inverse_scaling(pred)\n",
    "pred = pred.reshape(pred.shape[0],1)\n",
    "actual = inverse_scaling(test_y)\n",
    "# pred = inverse_scaling(pred)\n",
    "# actual = inverse_scaling(test_y)\n",
    "# actual = test_y.values\n",
    "feature = 'Min-Max'\n",
    "target = 'Min-Max'\n",
    "loss_function = 'mse'\n",
    "filename = type_name(feature,target,loss_function)\n",
    "make_resultfile(results,filename,pred,actual)\n",
    "rmse = mean_squared_error(pred,actual,squared=False)\n",
    "print(rmse)"
   ]
  },
  {
   "cell_type": "code",
   "execution_count": 14,
   "metadata": {},
   "outputs": [
    {
     "name": "stdout",
     "output_type": "stream",
     "text": [
      "1537.6676819433708\n"
     ]
    },
    {
     "data": {
      "image/png": "[encoded data removed]",
      "text/plain": [
       "<Figure size 432x288 with 1 Axes>"
      ]
     },
     "metadata": {
      "needs_background": "light"
     },
     "output_type": "display_data"
    }
   ],
   "source": [
    "#실험 6\n",
    "pred = model.predict(test_x)\n",
    "pred = inverse_scaling(pred)\n",
    "pred = pred.reshape(pred.shape[0],1)\n",
    "actual = inverse_scaling(test_y)\n",
    "# pred = inverse_scaling(pred)\n",
    "# actual = inverse_scaling(test_y)\n",
    "# actual = test_y.values\n",
    "feature = 'Z-Score'\n",
    "target = 'Min-Max'\n",
    "loss_function = 'mse'\n",
    "filename = type_name(feature,target,loss_function)\n",
    "make_resultfile(results,filename,pred,actual)\n",
    "rmse = mean_squared_error(pred,actual,squared=False)\n",
    "print(rmse)"
   ]
  },
  {
   "cell_type": "code",
   "execution_count": 120,
   "metadata": {},
   "outputs": [],
   "source": [
    "def make_resultfile(history,data,pred,actual) :\n",
    "    filename = data\n",
    "    \n",
    "    plt.plot(history.history['mean_absolute_error'])\n",
    "    plt.plot(history.history['val_mean_absolute_error'])\n",
    "    plt.legend(['mean_absolute_error','val_mean_absolute_error'])\n",
    "    plt.xlabel('epochs')\n",
    "    plt.ylabel('mean_absolute_error')\n",
    "    plt.grid()\n",
    "    plt.savefig(data[0])    \n",
    "    plt.clf()\n",
    "    \n",
    "    aa=[x for x in range(1000)]\n",
    "    plt.plot(aa, actual[:1000], marker='.', label=\"actual\")\n",
    "    plt.plot(aa, pred[:1000], 'r', label=\"prediction\")\n",
    "    plt.ylabel('Sales', size=15)\n",
    "    plt.xlabel('Period', size=15)\n",
    "    plt.legend(fontsize=15)\n",
    "    plt.savefig(data[1])\n",
    "    plt.clf()\n",
    "\n",
    "    plt.hist(pred,alpha = 1.0,color='r')\n",
    "    plt.hist(test_y,alpha = 0.5,color='r')\n",
    "    plt.savefig(data[2])\n",
    "    \n",
    "    \n"
   ]
  },
  {
   "cell_type": "code",
   "execution_count": 102,
   "metadata": {},
   "outputs": [
    {
     "data": {
      "image/png": "[encoded data removed]",
      "text/plain": [
       "<Figure size 720x360 with 1 Axes>"
      ]
     },
     "metadata": {
      "needs_background": "light"
     },
     "output_type": "display_data"
    }
   ],
   "source": [
    "plt.hist(pred,alpha = 1.0,color='r')\n",
    "plt.hist(test_y,alpha = 0.5,color='r')\n",
    "plt.savefig('None_None_mse_hist')"
   ]
  },
  {
   "cell_type": "code",
   "execution_count": 97,
   "metadata": {},
   "outputs": [
    {
     "data": {
      "text/plain": [
       "(array([3.70000e+01, 2.50000e+01, 1.30000e+01, 1.80000e+01, 1.80000e+01,\n",
       "        1.66000e+02, 6.43670e+04, 2.31200e+04, 1.12308e+05, 3.37000e+03]),\n",
       " array([-6480.83   , -5132.805  , -3784.78   , -2436.7551 , -1088.7301 ,\n",
       "          259.29492,  1607.32   ,  2955.345  ,  4303.37   ,  5651.395  ,\n",
       "         6999.42   ], dtype=float32),\n",
       " <BarContainer object of 10 artists>)"
      ]
     },
     "execution_count": 97,
     "metadata": {},
     "output_type": "execute_result"
    },
    {
     "data": {
      "image/png": "[encoded data removed]",
      "text/plain": [
       "<Figure size 720x360 with 1 Axes>"
      ]
     },
     "metadata": {
      "needs_background": "light"
     },
     "output_type": "display_data"
    }
   ],
   "source": [
    "plt.hist(pred)"
   ]
  },
  {
   "cell_type": "code",
   "execution_count": 56,
   "metadata": {},
   "outputs": [],
   "source": [
    "값 = test_y.values"
   ]
  },
  {
   "cell_type": "code",
   "execution_count": 59,
   "metadata": {},
   "outputs": [
    {
     "data": {
      "text/plain": [
       "array([[9272],\n",
       "       [   0],\n",
       "       [7720],\n",
       "       ...,\n",
       "       [9945],\n",
       "       [   0],\n",
       "       [4709]], dtype=int64)"
      ]
     },
     "execution_count": 59,
     "metadata": {},
     "output_type": "execute_result"
    }
   ],
   "source": [
    "값"
   ]
  },
  {
   "cell_type": "code",
   "execution_count": 45,
   "metadata": {},
   "outputs": [
    {
     "ename": "IndexError",
     "evalue": "index 1 is out of bounds for axis 0 with size 1",
     "output_type": "error",
     "traceback": [
      "\u001b[1;31m---------------------------------------------------------------------------\u001b[0m",
      "\u001b[1;31mIndexError\u001b[0m                                Traceback (most recent call last)",
      "\u001b[1;32mD:\\ANACONDA1\\lib\\site-packages\\pandas\\core\\indexes\\range.py\u001b[0m in \u001b[0;36m__getitem__\u001b[1;34m(self, key)\u001b[0m\n\u001b[0;32m    706\u001b[0m             \u001b[1;32mtry\u001b[0m\u001b[1;33m:\u001b[0m\u001b[1;33m\u001b[0m\u001b[1;33m\u001b[0m\u001b[0m\n\u001b[1;32m--> 707\u001b[1;33m                 \u001b[1;32mreturn\u001b[0m \u001b[0mself\u001b[0m\u001b[1;33m.\u001b[0m\u001b[0m_range\u001b[0m\u001b[1;33m[\u001b[0m\u001b[0mnew_key\u001b[0m\u001b[1;33m]\u001b[0m\u001b[1;33m\u001b[0m\u001b[1;33m\u001b[0m\u001b[0m\n\u001b[0m\u001b[0;32m    708\u001b[0m             \u001b[1;32mexcept\u001b[0m \u001b[0mIndexError\u001b[0m \u001b[1;32mas\u001b[0m \u001b[0merr\u001b[0m\u001b[1;33m:\u001b[0m\u001b[1;33m\u001b[0m\u001b[1;33m\u001b[0m\u001b[0m\n",
      "\u001b[1;31mIndexError\u001b[0m: range object index out of range",
      "\nThe above exception was the direct cause of the following exception:\n",
      "\u001b[1;31mIndexError\u001b[0m                                Traceback (most recent call last)",
      "\u001b[1;32m<ipython-input-45-323d1815114c>\u001b[0m in \u001b[0;36m<module>\u001b[1;34m\u001b[0m\n\u001b[1;32m----> 1\u001b[1;33m \u001b[0mtest_y\u001b[0m\u001b[1;33m.\u001b[0m\u001b[0mcolumns\u001b[0m\u001b[1;33m[\u001b[0m\u001b[1;36m1\u001b[0m\u001b[1;33m]\u001b[0m\u001b[1;33m\u001b[0m\u001b[1;33m\u001b[0m\u001b[0m\n\u001b[0m",
      "\u001b[1;32mD:\\ANACONDA1\\lib\\site-packages\\pandas\\core\\indexes\\range.py\u001b[0m in \u001b[0;36m__getitem__\u001b[1;34m(self, key)\u001b[0m\n\u001b[0;32m    707\u001b[0m                 \u001b[1;32mreturn\u001b[0m \u001b[0mself\u001b[0m\u001b[1;33m.\u001b[0m\u001b[0m_range\u001b[0m\u001b[1;33m[\u001b[0m\u001b[0mnew_key\u001b[0m\u001b[1;33m]\u001b[0m\u001b[1;33m\u001b[0m\u001b[1;33m\u001b[0m\u001b[0m\n\u001b[0;32m    708\u001b[0m             \u001b[1;32mexcept\u001b[0m \u001b[0mIndexError\u001b[0m \u001b[1;32mas\u001b[0m \u001b[0merr\u001b[0m\u001b[1;33m:\u001b[0m\u001b[1;33m\u001b[0m\u001b[1;33m\u001b[0m\u001b[0m\n\u001b[1;32m--> 709\u001b[1;33m                 raise IndexError(\n\u001b[0m\u001b[0;32m    710\u001b[0m                     \u001b[1;34mf\"index {key} is out of bounds for axis 0 with size {len(self)}\"\u001b[0m\u001b[1;33m\u001b[0m\u001b[1;33m\u001b[0m\u001b[0m\n\u001b[0;32m    711\u001b[0m                 ) from err\n",
      "\u001b[1;31mIndexError\u001b[0m: index 1 is out of bounds for axis 0 with size 1"
     ]
    }
   ],
   "source": [
    "test_y.columns[1]"
   ]
  },
  {
   "cell_type": "code",
   "execution_count": 12,
   "metadata": {},
   "outputs": [
    {
     "name": "stdout",
     "output_type": "stream",
     "text": [
      "6938.533184063133\n"
     ]
    }
   ],
   "source": [
    "pred = model.predict(test_x)\n",
    "pred = pred.reshape(pred.shape[0],1)\n",
    "mse = mean_squared_error(pred,test_y,squared=False)\n",
    "print(mse)"
   ]
  },
  {
   "cell_type": "markdown",
   "metadata": {},
   "source": [
    "# Standardization\n"
   ]
  },
  {
   "cell_type": "code",
   "execution_count": 4,
   "metadata": {},
   "outputs": [],
   "source": [
    "train_x,test_x,val_x,train_y,test_y,val_y=processing_data(sales,store)"
   ]
  },
  {
   "cell_type": "code",
   "execution_count": 7,
   "metadata": {},
   "outputs": [
    {
     "name": "stdout",
     "output_type": "stream",
     "text": [
      "Model: \"sequential\"\n",
      "_________________________________________________________________\n",
      "Layer (type)                 Output Shape              Param #   \n",
      "=================================================================\n",
      "dense (Dense)                (None, 256)               7424      \n",
      "_________________________________________________________________\n",
      "dropout (Dropout)            (None, 256)               0         \n",
      "_________________________________________________________________\n",
      "batch_normalization (BatchNo (None, 256)               1024      \n",
      "_________________________________________________________________\n",
      "dense_1 (Dense)              (None, 256)               65792     \n",
      "_________________________________________________________________\n",
      "dropout_1 (Dropout)          (None, 256)               0         \n",
      "_________________________________________________________________\n",
      "batch_normalization_1 (Batch (None, 256)               1024      \n",
      "_________________________________________________________________\n",
      "dense_2 (Dense)              (None, 256)               65792     \n",
      "_________________________________________________________________\n",
      "dropout_2 (Dropout)          (None, 256)               0         \n",
      "_________________________________________________________________\n",
      "batch_normalization_2 (Batch (None, 256)               1024      \n",
      "_________________________________________________________________\n",
      "dense_3 (Dense)              (None, 128)               32896     \n",
      "_________________________________________________________________\n",
      "dropout_3 (Dropout)          (None, 128)               0         \n",
      "_________________________________________________________________\n",
      "batch_normalization_3 (Batch (None, 128)               512       \n",
      "_________________________________________________________________\n",
      "dense_4 (Dense)              (None, 1)                 129       \n",
      "=================================================================\n",
      "Total params: 175,617\n",
      "Trainable params: 173,825\n",
      "Non-trainable params: 1,792\n",
      "_________________________________________________________________\n"
     ]
    }
   ],
   "source": [
    "model = tf.keras.Sequential()\n",
    "model.add(tf.keras.layers.Dense(256,input_dim=train_x.shape[1],activation='relu'))\n",
    "model.add(tf.keras.layers.Dropout(0.2))\n",
    "model.add(tf.keras.layers.BatchNormalization())\n",
    "\n",
    "model.add(tf.keras.layers.Dense(256,activation='relu'))\n",
    "model.add(tf.keras.layers.Dropout(0.2))\n",
    "model.add(tf.keras.layers.BatchNormalization())\n",
    "\n",
    "model.add(tf.keras.layers.Dense(256,activation='relu'))\n",
    "model.add(tf.keras.layers.Dropout(0.2))\n",
    "model.add(tf.keras.layers.BatchNormalization())\n",
    "\n",
    "model.add(tf.keras.layers.Dense(128,activation='relu'))\n",
    "model.add(tf.keras.layers.Dropout(0.2))\n",
    "model.add(tf.keras.layers.BatchNormalization())\n",
    "\n",
    "model.add(tf.keras.layers.Dense(1))\n",
    "\n",
    "model.compile(optimizer='adam',\n",
    "             loss='mse',\n",
    "             metrics=[tf.keras.metrics.RootMeanSquaredError()])\n",
    "\n",
    "model_path = 'D:/승찬/git/rossman'\n",
    "checkpoint = ModelCheckpoint(filepath=model_path , monitor='val_loss', verbose=1, save_best_only=True)\n",
    "early_stopping = EarlyStopping(monitor='val_loss', patience=6)\n",
    "\n",
    "model.summary()"
   ]
  },
  {
   "cell_type": "code",
   "execution_count": 9,
   "metadata": {},
   "outputs": [
    {
     "name": "stdout",
     "output_type": "stream",
     "text": [
      "Epoch 1/50\n",
      "9537/9537 [==============================] - ETA: 0s - loss: 19865554.0000 - root_mean_squared_error: 4457.0791\n",
      "Epoch 00001: val_loss improved from inf to 7405108.50000, saving model to D:/승찬/git/rossman\n",
      "WARNING:tensorflow:From D:\\ANACONDA1\\lib\\site-packages\\tensorflow\\python\\ops\\resource_variable_ops.py:1813: calling BaseResourceVariable.__init__ (from tensorflow.python.ops.resource_variable_ops) with constraint is deprecated and will be removed in a future version.\n",
      "Instructions for updating:\n",
      "If using Keras pass *_constraint arguments to layers.\n",
      "INFO:tensorflow:Assets written to: D:/승찬/git/rossman\\assets\n",
      "9537/9537 [==============================] - 57s 6ms/step - loss: 19865554.0000 - root_mean_squared_error: 4457.0791 - val_loss: 7405108.5000 - val_root_mean_squared_error: 2721.2329\n",
      "Epoch 2/50\n",
      "9535/9537 [============================>.] - ETA: 0s - loss: 8524665.0000 - root_mean_squared_error: 2919.7029\n",
      "Epoch 00002: val_loss did not improve from 7405108.50000\n",
      "9537/9537 [==============================] - 52s 5ms/step - loss: 8524693.0000 - root_mean_squared_error: 2919.7078 - val_loss: 17421316.0000 - val_root_mean_squared_error: 4173.8848\n",
      "Epoch 3/50\n",
      "9530/9537 [============================>.] - ETA: 0s - loss: 8404309.0000 - root_mean_squared_error: 2899.0186\n",
      "Epoch 00003: val_loss did not improve from 7405108.50000\n",
      "9537/9537 [==============================] - 51s 5ms/step - loss: 8402767.0000 - root_mean_squared_error: 2898.7527 - val_loss: 12906486.0000 - val_root_mean_squared_error: 3592.5598\n",
      "Epoch 4/50\n",
      "9530/9537 [============================>.] - ETA: 0s - loss: 7876664.0000 - root_mean_squared_error: 2806.5396\n",
      "Epoch 00004: val_loss did not improve from 7405108.50000\n",
      "9537/9537 [==============================] - 55s 6ms/step - loss: 7876565.5000 - root_mean_squared_error: 2806.5220 - val_loss: 9645295.0000 - val_root_mean_squared_error: 3105.6875\n",
      "Epoch 5/50\n",
      "9530/9537 [============================>.] - ETA: 0s - loss: 7673218.5000 - root_mean_squared_error: 2770.0574\n",
      "Epoch 00005: val_loss did not improve from 7405108.50000\n",
      "9537/9537 [==============================] - 49s 5ms/step - loss: 7673244.0000 - root_mean_squared_error: 2770.0620 - val_loss: 8081734.0000 - val_root_mean_squared_error: 2842.8391\n",
      "Epoch 6/50\n",
      "9536/9537 [============================>.] - ETA: 0s - loss: 7604014.5000 - root_mean_squared_error: 2757.5378\n",
      "Epoch 00006: val_loss did not improve from 7405108.50000\n",
      "9537/9537 [==============================] - 49s 5ms/step - loss: 7604140.0000 - root_mean_squared_error: 2757.5605 - val_loss: 20428330.0000 - val_root_mean_squared_error: 4519.7710\n",
      "Epoch 7/50\n",
      "9533/9537 [============================>.] - ETA: 0s - loss: 7155216.5000 - root_mean_squared_error: 2674.9236\n",
      "Epoch 00007: val_loss did not improve from 7405108.50000\n",
      "9537/9537 [==============================] - 50s 5ms/step - loss: 7155454.5000 - root_mean_squared_error: 2674.9680 - val_loss: 13951468.0000 - val_root_mean_squared_error: 3735.1665\n"
     ]
    }
   ],
   "source": [
    "results = model.fit(train_x, train_y,\n",
    "                    validation_data=(val_x, val_y),\n",
    "                    batch_size=64,\n",
    "                    epochs=50,\n",
    "                   callbacks=[checkpoint, early_stopping])"
   ]
  },
  {
   "cell_type": "code",
   "execution_count": 7,
   "metadata": {},
   "outputs": [],
   "source": [
    "test_y2 = inverse_scaling(test_y)"
   ]
  },
  {
   "cell_type": "code",
   "execution_count": 8,
   "metadata": {},
   "outputs": [
    {
     "name": "stdout",
     "output_type": "stream",
     "text": [
      "1513.7057285598057\n"
     ]
    }
   ],
   "source": [
    "pred = model.predict(test_x)\n",
    "pred = inverse_scaling(pred)\n",
    "pred = pred.reshape(pred.shape[0],1)\n",
    "mse = mean_squared_error(pred,test_y2,squared=False)\n",
    "print(mse)"
   ]
  },
  {
   "cell_type": "code",
   "execution_count": 11,
   "metadata": {},
   "outputs": [
    {
     "data": {
      "text/plain": [
       "[<matplotlib.lines.Line2D at 0x216b0128e80>]"
      ]
     },
     "execution_count": 11,
     "metadata": {},
     "output_type": "execute_result"
    },
    {
     "data": {
      "image/png": "[encoded data removed]",
      "text/plain": [
       "<Figure size 432x288 with 1 Axes>"
      ]
     },
     "metadata": {
      "needs_background": "light"
     },
     "output_type": "display_data"
    }
   ],
   "source": [
    "plt.plot(np.arange(1,len(test_y2)+1),test_y2,'r')\n",
    "plt.plot(np.arange(1,len(test_y2)+1),pred,'b')"
   ]
  },
  {
   "cell_type": "code",
   "execution_count": 9,
   "metadata": {},
   "outputs": [
    {
     "data": {
      "text/plain": [
       "(array([5.3170e+04, 9.6432e+04, 4.1331e+04, 9.0650e+03, 2.4290e+03,\n",
       "        7.4300e+02, 1.9300e+02, 6.2000e+01, 1.0000e+01, 7.0000e+00]),\n",
       " array([-1.49972273, -0.50011866,  0.49948541,  1.49908949,  2.49869356,\n",
       "         3.49829764,  4.49790171,  5.49750579,  6.49710986,  7.49671394,\n",
       "         8.49631801]),\n",
       " <BarContainer object of 10 artists>)"
      ]
     },
     "execution_count": 9,
     "metadata": {},
     "output_type": "execute_result"
    },
    {
     "data": {
      "image/png": "[encoded data removed]",
      "text/plain": [
       "<Figure size 432x288 with 1 Axes>"
      ]
     },
     "metadata": {
      "needs_background": "light"
     },
     "output_type": "display_data"
    }
   ],
   "source": [
    "plt.hist(test_y)"
   ]
  },
  {
   "cell_type": "code",
   "execution_count": 10,
   "metadata": {},
   "outputs": [
    {
     "data": {
      "text/plain": [
       "(array([4.69110e+04, 1.11325e+05, 3.82190e+04, 5.27700e+03, 1.03300e+03,\n",
       "        3.54000e+02, 1.98000e+02, 9.00000e+01, 3.00000e+01, 5.00000e+00]),\n",
       " array([ -364.2494,  3849.4302,  8063.11  , 12276.789 , 16490.469 ,\n",
       "        20704.148 , 24917.828 , 29131.508 , 33345.188 , 37558.867 ,\n",
       "        41772.547 ], dtype=float32),\n",
       " <BarContainer object of 10 artists>)"
      ]
     },
     "execution_count": 10,
     "metadata": {},
     "output_type": "execute_result"
    },
    {
     "data": {
      "image/png": "[encoded data removed]",
      "text/plain": [
       "<Figure size 432x288 with 1 Axes>"
      ]
     },
     "metadata": {
      "needs_background": "light"
     },
     "output_type": "display_data"
    }
   ],
   "source": [
    "plt.hist(pred)"
   ]
  },
  {
   "cell_type": "code",
   "execution_count": 28,
   "metadata": {},
   "outputs": [
    {
     "data": {
      "text/plain": [
       "[<matplotlib.lines.Line2D at 0x1833a7ed5b0>]"
      ]
     },
     "execution_count": 28,
     "metadata": {},
     "output_type": "execute_result"
    },
    {
     "data": {
      "image/png": "[encoded data removed]",
      "text/plain": [
       "<Figure size 432x288 with 1 Axes>"
      ]
     },
     "metadata": {
      "needs_background": "light"
     },
     "output_type": "display_data"
    }
   ],
   "source": [
    "error_dnn2 = test_y2-pred\n",
    "plt.plot(np.arange(1,len(test_y)+1),error_dnn2,'r')"
   ]
  },
  {
   "cell_type": "markdown",
   "metadata": {},
   "source": [
    "# Min-Max\n"
   ]
  },
  {
   "cell_type": "code",
   "execution_count": 4,
   "metadata": {},
   "outputs": [],
   "source": [
    "train_x,test_x,val_x,train_y,test_y,val_y=processing_data(sales,store)"
   ]
  },
  {
   "cell_type": "code",
   "execution_count": 40,
   "metadata": {},
   "outputs": [
    {
     "name": "stdout",
     "output_type": "stream",
     "text": [
      "Model: \"sequential_4\"\n",
      "_________________________________________________________________\n",
      "Layer (type)                 Output Shape              Param #   \n",
      "=================================================================\n",
      "dense_20 (Dense)             (None, 256)               7424      \n",
      "_________________________________________________________________\n",
      "dropout_16 (Dropout)         (None, 256)               0         \n",
      "_________________________________________________________________\n",
      "batch_normalization_16 (Batc (None, 256)               1024      \n",
      "_________________________________________________________________\n",
      "dense_21 (Dense)             (None, 256)               65792     \n",
      "_________________________________________________________________\n",
      "dropout_17 (Dropout)         (None, 256)               0         \n",
      "_________________________________________________________________\n",
      "batch_normalization_17 (Batc (None, 256)               1024      \n",
      "_________________________________________________________________\n",
      "dense_22 (Dense)             (None, 256)               65792     \n",
      "_________________________________________________________________\n",
      "dropout_18 (Dropout)         (None, 256)               0         \n",
      "_________________________________________________________________\n",
      "batch_normalization_18 (Batc (None, 256)               1024      \n",
      "_________________________________________________________________\n",
      "dense_23 (Dense)             (None, 128)               32896     \n",
      "_________________________________________________________________\n",
      "dropout_19 (Dropout)         (None, 128)               0         \n",
      "_________________________________________________________________\n",
      "batch_normalization_19 (Batc (None, 128)               512       \n",
      "_________________________________________________________________\n",
      "dense_24 (Dense)             (None, 1)                 129       \n",
      "=================================================================\n",
      "Total params: 175,617\n",
      "Trainable params: 173,825\n",
      "Non-trainable params: 1,792\n",
      "_________________________________________________________________\n"
     ]
    }
   ],
   "source": [
    "model = tf.keras.Sequential()\n",
    "model.add(tf.keras.layers.Dense(256,input_dim=train_x.shape[1],activation='relu'))\n",
    "model.add(tf.keras.layers.Dropout(0.2))\n",
    "model.add(tf.keras.layers.BatchNormalization())\n",
    "\n",
    "model.add(tf.keras.layers.Dense(256,activation='relu'))\n",
    "model.add(tf.keras.layers.Dropout(0.2))\n",
    "model.add(tf.keras.layers.BatchNormalization())\n",
    "\n",
    "model.add(tf.keras.layers.Dense(256,activation='relu'))\n",
    "model.add(tf.keras.layers.Dropout(0.2))\n",
    "model.add(tf.keras.layers.BatchNormalization())\n",
    "\n",
    "model.add(tf.keras.layers.Dense(128,activation='relu'))\n",
    "model.add(tf.keras.layers.Dropout(0.2))\n",
    "model.add(tf.keras.layers.BatchNormalization())\n",
    "\n",
    "model.add(tf.keras.layers.Dense(1))\n",
    "\n",
    "model.compile(optimizer='adam',\n",
    "             loss='mse',\n",
    "             metrics=['mean_absolute_error'])\n",
    "\n",
    "model_path = 'D:/승찬/git/rossman'\n",
    "checkpoint = ModelCheckpoint(filepath=model_path , monitor='val_loss', verbose=1, save_best_only=True)\n",
    "early_stopping = EarlyStopping(monitor='val_loss', patience=6)\n",
    "\n",
    "model.summary()"
   ]
  },
  {
   "cell_type": "code",
   "execution_count": null,
   "metadata": {},
   "outputs": [
    {
     "name": "stdout",
     "output_type": "stream",
     "text": [
      "Epoch 1/50\n",
      "  63/9537 [..............................] - ETA: 30:13 - loss: 0.8819 - mean_absolute_error: 0.7377"
     ]
    }
   ],
   "source": [
    "results_min_max = model.fit(train_x, train_y,\n",
    "                    validation_data=(val_x, val_y),\n",
    "                    batch_size=64,\n",
    "                    epochs=50,\n",
    "                   callbacks=[checkpoint, early_stopping])"
   ]
  },
  {
   "cell_type": "code",
   "execution_count": 30,
   "metadata": {},
   "outputs": [
    {
     "data": {
      "text/plain": [
       "array([[0.10762869],\n",
       "       [0.4099143 ],\n",
       "       [0.1793447 ],\n",
       "       ...,\n",
       "       [0.15745543],\n",
       "       [0.00938755],\n",
       "       [0.17041114]], dtype=float32)"
      ]
     },
     "execution_count": 30,
     "metadata": {},
     "output_type": "execute_result"
    }
   ],
   "source": [
    "pred = model.predict(test_x)\n",
    "pred"
   ]
  },
  {
   "cell_type": "code",
   "execution_count": 25,
   "metadata": {},
   "outputs": [
    {
     "data": {
      "text/plain": [
       "(array([5.2151e+04, 9.5476e+04, 4.2529e+04, 9.5620e+03, 2.5540e+03,\n",
       "        8.5000e+02, 2.0900e+02, 8.7000e+01, 1.7000e+01, 7.0000e+00]),\n",
       " array([    0. ,  3803.7,  7607.4, 11411.1, 15214.8, 19018.5, 22822.2,\n",
       "        26625.9, 30429.6, 34233.3, 38037. ]),\n",
       " <BarContainer object of 10 artists>)"
      ]
     },
     "execution_count": 25,
     "metadata": {},
     "output_type": "execute_result"
    },
    {
     "data": {
      "image/png": "[encoded data removed]",
      "text/plain": [
       "<Figure size 432x288 with 1 Axes>"
      ]
     },
     "metadata": {
      "needs_background": "light"
     },
     "output_type": "display_data"
    }
   ],
   "source": [
    "plt.hist(test_y2)"
   ]
  },
  {
   "cell_type": "code",
   "execution_count": 31,
   "metadata": {},
   "outputs": [
    {
     "data": {
      "text/plain": [
       "(array([1.98923e+05, 4.23600e+03, 6.10000e+01, 5.10000e+01, 3.90000e+01,\n",
       "        5.20000e+01, 4.40000e+01, 1.60000e+01, 1.50000e+01, 5.00000e+00]),\n",
       " array([-0.08301012,  0.30130953,  0.6856292 ,  1.0699488 ,  1.4542685 ,\n",
       "         1.8385881 ,  2.2229078 ,  2.6072276 ,  2.991547  ,  3.375867  ,\n",
       "         3.7601864 ], dtype=float32),\n",
       " <BarContainer object of 10 artists>)"
      ]
     },
     "execution_count": 31,
     "metadata": {},
     "output_type": "execute_result"
    },
    {
     "data": {
      "image/png": "[encoded data removed]",
      "text/plain": [
       "<Figure size 432x288 with 1 Axes>"
      ]
     },
     "metadata": {
      "needs_background": "light"
     },
     "output_type": "display_data"
    }
   ],
   "source": [
    "plt.hist(pred)"
   ]
  },
  {
   "cell_type": "code",
   "execution_count": 32,
   "metadata": {},
   "outputs": [
    {
     "data": {
      "text/plain": [
       "array([[0.10762869],\n",
       "       [0.4099143 ],\n",
       "       [0.1793447 ],\n",
       "       ...,\n",
       "       [0.15745543],\n",
       "       [0.00938755],\n",
       "       [0.17041114]], dtype=float32)"
      ]
     },
     "execution_count": 32,
     "metadata": {},
     "output_type": "execute_result"
    }
   ],
   "source": [
    "pred"
   ]
  },
  {
   "cell_type": "code",
   "execution_count": 37,
   "metadata": {},
   "outputs": [
    {
     "data": {
      "text/html": [
       "<div>\n",
       "<style scoped>\n",
       "    .dataframe tbody tr th:only-of-type {\n",
       "        vertical-align: middle;\n",
       "    }\n",
       "\n",
       "    .dataframe tbody tr th {\n",
       "        vertical-align: top;\n",
       "    }\n",
       "\n",
       "    .dataframe thead th {\n",
       "        text-align: right;\n",
       "    }\n",
       "</style>\n",
       "<table border=\"1\" class=\"dataframe\">\n",
       "  <thead>\n",
       "    <tr style=\"text-align: right;\">\n",
       "      <th></th>\n",
       "      <th>0</th>\n",
       "    </tr>\n",
       "  </thead>\n",
       "  <tbody>\n",
       "    <tr>\n",
       "      <th>348271</th>\n",
       "      <td>0.084113</td>\n",
       "    </tr>\n",
       "    <tr>\n",
       "      <th>211646</th>\n",
       "      <td>0.231956</td>\n",
       "    </tr>\n",
       "    <tr>\n",
       "      <th>917385</th>\n",
       "      <td>0.148925</td>\n",
       "    </tr>\n",
       "    <tr>\n",
       "      <th>327969</th>\n",
       "      <td>0.160550</td>\n",
       "    </tr>\n",
       "    <tr>\n",
       "      <th>210099</th>\n",
       "      <td>0.282905</td>\n",
       "    </tr>\n",
       "    <tr>\n",
       "      <th>...</th>\n",
       "      <td>...</td>\n",
       "    </tr>\n",
       "    <tr>\n",
       "      <th>15193</th>\n",
       "      <td>0.142548</td>\n",
       "    </tr>\n",
       "    <tr>\n",
       "      <th>136055</th>\n",
       "      <td>0.135424</td>\n",
       "    </tr>\n",
       "    <tr>\n",
       "      <th>928577</th>\n",
       "      <td>0.261005</td>\n",
       "    </tr>\n",
       "    <tr>\n",
       "      <th>57070</th>\n",
       "      <td>0.000000</td>\n",
       "    </tr>\n",
       "    <tr>\n",
       "      <th>762029</th>\n",
       "      <td>0.158793</td>\n",
       "    </tr>\n",
       "  </tbody>\n",
       "</table>\n",
       "<p>203442 rows × 1 columns</p>\n",
       "</div>"
      ],
      "text/plain": [
       "               0\n",
       "348271  0.084113\n",
       "211646  0.231956\n",
       "917385  0.148925\n",
       "327969  0.160550\n",
       "210099  0.282905\n",
       "...          ...\n",
       "15193   0.142548\n",
       "136055  0.135424\n",
       "928577  0.261005\n",
       "57070   0.000000\n",
       "762029  0.158793\n",
       "\n",
       "[203442 rows x 1 columns]"
      ]
     },
     "execution_count": 37,
     "metadata": {},
     "output_type": "execute_result"
    }
   ],
   "source": [
    "test_y"
   ]
  },
  {
   "cell_type": "code",
   "execution_count": 19,
   "metadata": {},
   "outputs": [],
   "source": [
    "pred = inverse_scaling(pred)"
   ]
  },
  {
   "cell_type": "code",
   "execution_count": 26,
   "metadata": {},
   "outputs": [
    {
     "data": {
      "text/plain": [
       "array([[ 4472.0796],\n",
       "       [17032.35  ],\n",
       "       [ 7451.9517],\n",
       "       ...,\n",
       "       [ 6542.4307],\n",
       "       [  390.0622],\n",
       "       [ 7080.7534]], dtype=float32)"
      ]
     },
     "execution_count": 26,
     "metadata": {},
     "output_type": "execute_result"
    }
   ],
   "source": [
    "pred"
   ]
  },
  {
   "cell_type": "code",
   "execution_count": null,
   "metadata": {},
   "outputs": [],
   "source": [
    "pred = model.predict(test_x)\n",
    "pred = inverse_scaling(pred)\n",
    "pred = pred.reshape(pred.shape[0],1)\n",
    "mse = mean_squared_error(pred,test_y2,squared=False)\n",
    "print(mse)"
   ]
  },
  {
   "cell_type": "code",
   "execution_count": 27,
   "metadata": {},
   "outputs": [
    {
     "name": "stdout",
     "output_type": "stream",
     "text": [
      "2910.753111188598\n"
     ]
    }
   ],
   "source": [
    "mse = mean_squared_error(pred,test_y2,squared=False)\n",
    "print(mse)"
   ]
  },
  {
   "cell_type": "code",
   "execution_count": 28,
   "metadata": {},
   "outputs": [
    {
     "name": "stdout",
     "output_type": "stream",
     "text": [
      "8472483.674294103\n"
     ]
    }
   ],
   "source": [
    "mse = mean_squared_error(pred,test_y2,squared=True)\n",
    "print(mse)"
   ]
  },
  {
   "cell_type": "code",
   "execution_count": 34,
   "metadata": {},
   "outputs": [],
   "source": [
    "test_y2 = inverse_scaling(test_y)"
   ]
  },
  {
   "cell_type": "code",
   "execution_count": 35,
   "metadata": {},
   "outputs": [
    {
     "data": {
      "text/plain": [
       "array([[ 3495.],\n",
       "       [ 9638.],\n",
       "       [ 6188.],\n",
       "       ...,\n",
       "       [10845.],\n",
       "       [    0.],\n",
       "       [ 6598.]])"
      ]
     },
     "execution_count": 35,
     "metadata": {},
     "output_type": "execute_result"
    }
   ],
   "source": [
    "test_y2"
   ]
  },
  {
   "cell_type": "code",
   "execution_count": 28,
   "metadata": {},
   "outputs": [
    {
     "data": {
      "text/plain": [
       "203442"
      ]
     },
     "execution_count": 28,
     "metadata": {},
     "output_type": "execute_result"
    }
   ],
   "source": [
    "len(pred)"
   ]
  },
  {
   "cell_type": "code",
   "execution_count": 27,
   "metadata": {},
   "outputs": [
    {
     "data": {
      "text/plain": [
       "array([[-1407.01123047],\n",
       "       [    7.76660156],\n",
       "       [-1061.30371094],\n",
       "       ...,\n",
       "       [ 1763.9140625 ],\n",
       "       [  236.24365234],\n",
       "       [ 1127.96386719]])"
      ]
     },
     "execution_count": 27,
     "metadata": {},
     "output_type": "execute_result"
    }
   ],
   "source": [
    "pred-test_y2 / 203442"
   ]
  },
  {
   "cell_type": "code",
   "execution_count": null,
   "metadata": {},
   "outputs": [],
   "source": []
  }
 ],
 "metadata": {
  "kernelspec": {
   "display_name": "Python 3",
   "language": "python",
   "name": "python3"
  },
  "language_info": {
   "codemirror_mode": {
    "name": "ipython",
    "version": 3
   },
   "file_extension": ".py",
   "mimetype": "text/x-python",
   "name": "python",
   "nbconvert_exporter": "python",
   "pygments_lexer": "ipython3",
   "version": "3.8.5"
  }
 },
 "nbformat": 4,
 "nbformat_minor": 4
}
