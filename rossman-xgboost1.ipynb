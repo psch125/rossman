{
 "cells": [
  {
   "cell_type": "code",
   "execution_count": 3,
   "metadata": {},
   "outputs": [],
   "source": [
    "import numpy as np \n",
    "import pandas as pd\n",
    "import os\n",
    "import scipy.stats as ss\n",
    "import matplotlib.pyplot as plt\n",
    "import tensorflow as tf\n",
    "import sklearn\n",
    "from sklearn.preprocessing import StandardScaler\n",
    "from sklearn.model_selection import train_test_split\n",
    "from sklearn.tree import DecisionTreeRegressor\n",
    "from sklearn.metrics import mean_squared_error\n",
    "from sklearn.model_selection import GridSearchCV\n",
    "from xgboost import XGBRegressor,plot_importance\n",
    "from scipy.stats import f_oneway\n"
   ]
  },
  {
   "cell_type": "code",
   "execution_count": 4,
   "metadata": {},
   "outputs": [
    {
     "name": "stderr",
     "output_type": "stream",
     "text": [
      "D:\\ANACONDA1\\lib\\site-packages\\IPython\\core\\interactiveshell.py:3146: DtypeWarning: Columns (7) have mixed types.Specify dtype option on import or set low_memory=False.\n",
      "  has_raised = await self.run_ast_nodes(code_ast.body, cell_name,\n"
     ]
    }
   ],
   "source": [
    "sales = pd.read_csv('D:/승찬/수요 예측/rossmann-store-sales/train.csv')\n",
    "store = pd.read_csv('D:/승찬/수요 예측/rossmann-store-sales/store.csv')\n",
    "future_sales = pd.read_csv('D:/승찬/수요 예측/rossmann-store-sales/test.csv')\n",
    "sales['StateHoliday'] = sales['StateHoliday'].replace({0:\"0\"})\n",
    "sales['StateHoliday'] = sales['StateHoliday'].replace({'0':'d'})"
   ]
  },
  {
   "cell_type": "code",
   "execution_count": 25,
   "metadata": {},
   "outputs": [],
   "source": [
    "def processing_data(sales,store) :\n",
    "    sales['Date'] = pd.to_datetime(sales['Date'], format=\"%Y-%m-%d\") # 년도, 달, 일 순으로 format\n",
    "    sales['StateHoliday'] = sales['StateHoliday'].replace({0:\"0\"})\n",
    "    sales['StateHoliday'] = sales['StateHoliday'].replace({'0':'d'})\n",
    "    sales = sales.sort_values('Date')\n",
    "    \n",
    "    one_hot = []\n",
    "    for i in range(0,len(sales)) :\n",
    "        one_hot.append(0)\n",
    "        \n",
    "    name = ['StateHoliday_a','StateHoliday_b','StateHoliday_c','StateHoliday_d']\n",
    "    values = ['a','b','c','d']\n",
    "    counts = sales['StateHoliday'].value_counts().sort_index().index\n",
    "\n",
    "    for i in range(0,len(values)) :\n",
    "        if values[i] not in counts :\n",
    "            sales[name[i]] = one_hot        \n",
    "    sales = pd.get_dummies(data = sales, columns = ['StateHoliday'])\n",
    "    columns = sales.columns.tolist()\n",
    "    columns.sort()\n",
    "    sales = sales[columns]\n",
    "    \n",
    "    store = processing_store(store)\n",
    "    store_copy = store\n",
    "    store_copy= pd.merge(left=sales,right=store_copy,on='Store')\n",
    "\n",
    "    store_copy['Year']=pd.DatetimeIndex(store_copy.Date).year\n",
    "    store_copy['Month']=pd.DatetimeIndex(store_copy.Date).month\n",
    "    store_copy['Day']=pd.DatetimeIndex(store_copy.Date).day\n",
    "    if 'Id' in sales :\n",
    "        store_copy = store_copy.drop(['Date','Store','Id'],axis=1)\n",
    "    else :\n",
    "        store_copy = store_copy.drop(['Date','Store','Customers'],axis=1)\n",
    "        \n",
    "\n",
    "    \n",
    "    return make_regression_model_1(store_copy)\n",
    "\n",
    "def processing_store(store) :\n",
    "    store_copy = store.copy()\n",
    "    store_copy['CompetitionDistance'] = store_copy['CompetitionDistance'].fillna(\n",
    "        store_copy['CompetitionDistance'].mean())\n",
    "\n",
    "    store_copy_cols = ['CompetitionOpenSinceYear','CompetitionOpenSinceMonth',\n",
    "                    'Promo2SinceWeek','Promo2SinceYear','PromoInterval']\n",
    "    for i in store_copy_cols :\n",
    "        store_copy[i].fillna(0,inplace=True)\n",
    "    store_copy = pd.get_dummies(data=store_copy,columns=['Assortment','PromoInterval','StoreType'])\n",
    "    return store_copy\n",
    "\n",
    "def make_regression_model_1(train_data) :\n",
    "    target_col = 'Sales'\n",
    "    input_cols = train_data.columns.drop(target_col)\n",
    "    train_x,test_x,train_y,test_y = train_test_split(train_data[input_cols],\n",
    "                                                    train_data[target_col],\n",
    "                                                    test_size=0.4,random_state=1)\n",
    "    \n",
    "    test_x,val_x,test_y,val_y = train_test_split(test_x[input_cols],\n",
    "                                                test_y,\n",
    "                                                test_size=0.5)\n",
    "    \n",
    "    return train_x,test_x,val_x,train_y,test_y,val_y\n",
    "\n"
   ]
  },
  {
   "cell_type": "code",
   "execution_count": 66,
   "metadata": {},
   "outputs": [],
   "source": [
    "train_x,test_x,val_x,train_y,test_y,val_y=processing_data(sales,store)\n",
    "# train_data =processing_data(sales,store)\n",
    "# pred_data = processing_data(future_sales,store)\n",
    "train_x2 = pd.concat([train_x,val_x])\n",
    "train_y2 = pd.concat([train_y,val_y])"
   ]
  },
  {
   "cell_type": "code",
   "execution_count": 67,
   "metadata": {},
   "outputs": [],
   "source": [
    "model = XGBRegressor(tree_method='gpu_hist',gpu_id ='0',predictor ='gpu_predictor',\n",
    "                    n_estimators =400,max_depth = 12, learning_rate = 0.05)\n",
    "# fit_params = dict(\n",
    "#         eval_set=[(val_x, val_y)], \n",
    "#         early_stopping_rounds=10\n",
    "#         )\n",
    "model.fit(train_x2,train_y2)\n",
    "filename = 'xgb_model.model'\n",
    "model.save_model(filename)"
   ]
  },
  {
   "cell_type": "code",
   "execution_count": 84,
   "metadata": {},
   "outputs": [],
   "source": [
    "pred= model.predict(test_x)"
   ]
  },
  {
   "cell_type": "code",
   "execution_count": 85,
   "metadata": {},
   "outputs": [
    {
     "name": "stdout",
     "output_type": "stream",
     "text": [
      "710.5269301722333\n"
     ]
    }
   ],
   "source": [
    "mse = mean_squared_error(pred, test_y, squared=False)\n",
    "print(mse)"
   ]
  },
  {
   "cell_type": "code",
   "execution_count": 87,
   "metadata": {},
   "outputs": [
    {
     "data": {
      "text/plain": [
       "[<matplotlib.lines.Line2D at 0x21ad8e9c490>]"
      ]
     },
     "execution_count": 87,
     "metadata": {},
     "output_type": "execute_result"
    },
    {
     "data": {
      "image/png": "[encoded data removed]",
      "text/plain": [
       "<Figure size 432x288 with 1 Axes>"
      ]
     },
     "metadata": {
      "needs_background": "light"
     },
     "output_type": "display_data"
    }
   ],
   "source": [
    "plt.plot(np.arange(1,len(test_y)+1),test_y,'r')\n",
    "plt.plot(np.arange(1,len(test_y)+1),pred,'b')"
   ]
  },
  {
   "cell_type": "code",
   "execution_count": 88,
   "metadata": {},
   "outputs": [
    {
     "data": {
      "text/plain": [
       "(array([5.3050e+04, 9.6339e+04, 4.1338e+04, 9.1200e+03, 2.5010e+03,\n",
       "        7.8200e+02, 2.1700e+02, 7.5000e+01, 1.5000e+01, 5.0000e+00]),\n",
       " array([    0. ,  3848.4,  7696.8, 11545.2, 15393.6, 19242. , 23090.4,\n",
       "        26938.8, 30787.2, 34635.6, 38484. ]),\n",
       " <BarContainer object of 10 artists>)"
      ]
     },
     "execution_count": 88,
     "metadata": {},
     "output_type": "execute_result"
    },
    {
     "data": {
      "image/png": "[encoded data removed]",
      "text/plain": [
       "<Figure size 432x288 with 1 Axes>"
      ]
     },
     "metadata": {
      "needs_background": "light"
     },
     "output_type": "display_data"
    }
   ],
   "source": [
    "plt.hist(test_y)"
   ]
  },
  {
   "cell_type": "code",
   "execution_count": 89,
   "metadata": {},
   "outputs": [
    {
     "data": {
      "text/plain": [
       "(array([3.6778e+04, 7.6011e+04, 6.9128e+04, 1.6435e+04, 3.5380e+03,\n",
       "        1.1860e+03, 2.7100e+02, 7.5000e+01, 1.4000e+01, 6.0000e+00]),\n",
       " array([-1274.0756,  2468.5938,  6211.263 ,  9953.933 , 13696.602 ,\n",
       "        17439.271 , 21181.94  , 24924.61  , 28667.28  , 32409.947 ,\n",
       "        36152.617 ], dtype=float32),\n",
       " <BarContainer object of 10 artists>)"
      ]
     },
     "execution_count": 89,
     "metadata": {},
     "output_type": "execute_result"
    },
    {
     "data": {
      "image/png": "[encoded data removed]",
      "text/plain": [
       "<Figure size 432x288 with 1 Axes>"
      ]
     },
     "metadata": {
      "needs_background": "light"
     },
     "output_type": "display_data"
    }
   ],
   "source": [
    "plt.hist(pred)"
   ]
  },
  {
   "cell_type": "code",
   "execution_count": 91,
   "metadata": {},
   "outputs": [
    {
     "data": {
      "text/plain": [
       "[<matplotlib.lines.Line2D at 0x21a88cea3a0>]"
      ]
     },
     "execution_count": 91,
     "metadata": {},
     "output_type": "execute_result"
    },
    {
     "data": {
      "image/png": "[encoded data removed]",
      "text/plain": [
       "<Figure size 432x288 with 1 Axes>"
      ]
     },
     "metadata": {
      "needs_background": "light"
     },
     "output_type": "display_data"
    }
   ],
   "source": [
    "error_xgboost = test_y - pred\n",
    "plt.plot(np.arange(1,len(test_y)+1),error_xgboost,'r')"
   ]
  },
  {
   "cell_type": "code",
   "execution_count": null,
   "metadata": {},
   "outputs": [],
   "source": []
  }
 ],
 "metadata": {
  "kernelspec": {
   "display_name": "Python 3",
   "language": "python",
   "name": "python3"
  },
  "language_info": {
   "codemirror_mode": {
    "name": "ipython",
    "version": 3
   },
   "file_extension": ".py",
   "mimetype": "text/x-python",
   "name": "python",
   "nbconvert_exporter": "python",
   "pygments_lexer": "ipython3",
   "version": "3.8.5"
  }
 },
 "nbformat": 4,
 "nbformat_minor": 4
}
